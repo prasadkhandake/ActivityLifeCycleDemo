{
  "nbformat": 4,
  "nbformat_minor": 0,
  "metadata": {
    "colab": {
      "name": "cc_chatbot.ipynb",
      "provenance": [],
      "include_colab_link": true
    },
    "kernelspec": {
      "name": "python3",
      "display_name": "Python 3"
    },
    "language_info": {
      "name": "python"
    }
  },
  "cells": [
    {
      "cell_type": "markdown",
      "metadata": {
        "id": "view-in-github",
        "colab_type": "text"
      },
      "source": [
        "<a href=\"https://colab.research.google.com/github/prasadkhandake/ActivityLifeCycleDemo/blob/master/cc_chatbot.ipynb\" target=\"_parent\"><img src=\"https://colab.research.google.com/assets/colab-badge.svg\" alt=\"Open In Colab\"/></a>"
      ]
    },
    {
      "cell_type": "markdown",
      "metadata": {
        "id": "02QobXRZPAfP"
      },
      "source": [
        "Chatbot Application\n"
      ]
    },
    {
      "cell_type": "code",
      "metadata": {
        "colab": {
          "base_uri": "https://localhost:8080/"
        },
        "id": "13nWOkNqMz9q",
        "outputId": "f378c085-7aa0-435c-db56-7eb048485fd5"
      },
      "source": [
        "!pip install nltk"
      ],
      "execution_count": null,
      "outputs": [
        {
          "output_type": "stream",
          "text": [
            "Requirement already satisfied: nltk in /usr/local/lib/python3.7/dist-packages (3.2.5)\n",
            "Requirement already satisfied: six in /usr/local/lib/python3.7/dist-packages (from nltk) (1.15.0)\n"
          ],
          "name": "stdout"
        }
      ]
    },
    {
      "cell_type": "code",
      "metadata": {
        "id": "nRGePkaqNO6x"
      },
      "source": [
        "import nltk"
      ],
      "execution_count": null,
      "outputs": []
    },
    {
      "cell_type": "code",
      "metadata": {
        "colab": {
          "base_uri": "https://localhost:8080/"
        },
        "id": "5_53yTCnNO-E",
        "outputId": "14a3bbae-bd0c-41c4-f176-6a1ebe08a19a"
      },
      "source": [
        "nltk.download('punkt')"
      ],
      "execution_count": null,
      "outputs": [
        {
          "output_type": "stream",
          "text": [
            "[nltk_data] Downloading package punkt to /root/nltk_data...\n",
            "[nltk_data]   Package punkt is already up-to-date!\n"
          ],
          "name": "stdout"
        },
        {
          "output_type": "execute_result",
          "data": {
            "text/plain": [
              "True"
            ]
          },
          "metadata": {
            "tags": []
          },
          "execution_count": 2
        }
      ]
    },
    {
      "cell_type": "code",
      "metadata": {
        "colab": {
          "base_uri": "https://localhost:8080/"
        },
        "id": "N2NaA1dXNzVV",
        "outputId": "f3a2fcc4-fb08-44bd-a39f-90f4fa8d8d87"
      },
      "source": [
        "nltk.download('wordnet')"
      ],
      "execution_count": null,
      "outputs": [
        {
          "output_type": "stream",
          "text": [
            "[nltk_data] Downloading package wordnet to /root/nltk_data...\n",
            "[nltk_data]   Package wordnet is already up-to-date!\n"
          ],
          "name": "stdout"
        },
        {
          "output_type": "execute_result",
          "data": {
            "text/plain": [
              "True"
            ]
          },
          "metadata": {
            "tags": []
          },
          "execution_count": 3
        }
      ]
    },
    {
      "cell_type": "markdown",
      "metadata": {
        "id": "moJRs1mmPJSc"
      },
      "source": [
        "Import necessary libraries"
      ]
    },
    {
      "cell_type": "code",
      "metadata": {
        "id": "a3Ckk4nUNzY0"
      },
      "source": [
        "import io\n",
        "import random\n",
        "import string\n",
        "import warnings\n",
        "warnings.filterwarnings('ignore')\n",
        "import numpy as np\n",
        "from sklearn.feature_extraction.text import TfidfVectorizer\n",
        "from sklearn.metrics.pairwise import cosine_similarity\n",
        "from nltk.stem import WordNetLemmatizer\n"
      ],
      "execution_count": null,
      "outputs": []
    },
    {
      "cell_type": "markdown",
      "metadata": {
        "id": "Ktc40WqGPWTN"
      },
      "source": [
        "Reading in the corpus"
      ]
    },
    {
      "cell_type": "code",
      "metadata": {
        "id": "M6NLhNrUNze8"
      },
      "source": [
        "f = open('/content/drive/MyDrive/Z MIT/Tri 3/CC/chatbot/chatbotv1.txt','r',errors='ignore')\n",
        "raw=f.read()\n",
        "raw=raw.lower()"
      ],
      "execution_count": null,
      "outputs": []
    },
    {
      "cell_type": "markdown",
      "metadata": {
        "id": "Ji3fFxdrTIfu"
      },
      "source": [
        "Tokenisation"
      ]
    },
    {
      "cell_type": "code",
      "metadata": {
        "id": "0SzRv2FwPgRl"
      },
      "source": [
        "sent_tokens = nltk.sent_tokenize(raw)\n",
        "word_tokens = nltk.word_tokenize(raw)"
      ],
      "execution_count": null,
      "outputs": []
    },
    {
      "cell_type": "markdown",
      "metadata": {
        "id": "8BC6-hEgVOO9"
      },
      "source": [
        "Preprocessing"
      ]
    },
    {
      "cell_type": "code",
      "metadata": {
        "id": "avQXiRdCPgUt"
      },
      "source": [
        "lemmer = nltk.stem.WordNetLemmatizer()\n",
        "def LemTokens(tokens):\n",
        "  return [lemmer.lemmatize(token) for token in tokens]\n",
        "remove_punct_dict = dict((ord(punct), None) for punct in string.punctuation)\n",
        "\n",
        "def LemNormalize(text):\n",
        "  return LemTokens(nltk.word_tokenize(text.lower().translate(remove_punct_dict)))\n",
        "\n"
      ],
      "execution_count": null,
      "outputs": []
    },
    {
      "cell_type": "markdown",
      "metadata": {
        "id": "hEq9L2d-VQyE"
      },
      "source": [
        "Keyword matching"
      ]
    },
    {
      "cell_type": "code",
      "metadata": {
        "id": "Hxc0Xl-pNzhk"
      },
      "source": [
        "GREETING_INPUTS = (\"hello\", \"hi\", \"greetings\", \"sup\", \"What's up\", \"hey\",)\n",
        "GREETING_RESPONSES = [\"hi\", \"hey\", \"hi there\", \"hello\", \"I am glad! You are talking to me\"]\n",
        "def greeting(sentence):\n",
        "\n",
        "  for word in sentence.split():\n",
        "    if word.lower() in GREETING_INPUTS:\n",
        "      return random.choice(GREETING_RESPONSES)"
      ],
      "execution_count": null,
      "outputs": []
    },
    {
      "cell_type": "markdown",
      "metadata": {
        "id": "X24dcWHEWzql"
      },
      "source": [
        "bag of words\n",
        "tf-idf approach\n",
        "cosine similarity"
      ]
    },
    {
      "cell_type": "code",
      "metadata": {
        "id": "DZwbBbasNzkF"
      },
      "source": [
        "def response(user_response):\n",
        "  bot_response=''\n",
        "  sent_tokens.append(user_response)\n",
        "  TfidfVec = TfidfVectorizer(tokenizer=LemNormalize, stop_words='english')\n",
        "  tfidf = TfidfVec.fit_transform(sent_tokens)\n",
        "  vals = cosine_similarity(tfidf[-1], tfidf)\n",
        "  idx= vals.argsort()[0][-2]\n",
        "  flat = vals.flatten()\n",
        "  flat.sort()\n",
        "  req_tfidf = flat[-2]\n",
        "  if(req_tfidf==0):\n",
        "    bot_response=bot_response+\"I am sorry! I don't understand you\"\n",
        "    return bot_response\n",
        "  else:\n",
        "    bot_response = bot_response+sent_tokens[idx]\n",
        "    return bot_response\n",
        "\n",
        "\n"
      ],
      "execution_count": null,
      "outputs": []
    },
    {
      "cell_type": "code",
      "metadata": {
        "colab": {
          "base_uri": "https://localhost:8080/"
        },
        "id": "nZBMiSTGNzme",
        "outputId": "f0c547e4-2977-4f1a-d4ef-fb55353a3a05"
      },
      "source": [
        "flag=True\n",
        "print(\"------------Welcome to Agribot------------------\")\n",
        "print(\"Agri_BOT: My name is Agri_BOT. I will answer your quries about Agriculture. If you want to exit, type Bye!\")\n",
        "while(flag==True):\n",
        "  user_response = input()\n",
        "  user_response=user_response.lower()\n",
        "  if(user_response!='bye'):\n",
        "    if(user_response=='thanks' or user_response=='thank you'):\n",
        "      flag=False\n",
        "      print(\"Agri_BOT: You are welcome..\")\n",
        "    else:\n",
        "      if(greeting(user_response)!=None):\n",
        "        print(\"Agri_BOT: \"+greeting(user_response))\n",
        "      else:\n",
        "        print(\"Agri_BOT: \",end=\"\")\n",
        "        print(response(user_response))\n",
        "        sent_tokens.remove(user_response)\n",
        "  else:\n",
        "    flag=False\n",
        "    print(\"Agri_BOT: Bye! take care..\")"
      ],
      "execution_count": null,
      "outputs": [
        {
          "output_type": "stream",
          "text": [
            "BOT: My name is NLP_BOT. I will answer your quries about Chatbots. If you want to exit, type Bye!\n",
            "hi\n",
            "BOT: hello\n",
            "What is farming?\n",
            "BOT: here are some of the most popular farming systems: \n",
            "\n",
            "arable farming.\n",
            "What is soil health?\n",
            "BOT: 11\n",
            "sometimes referred to as soil quality, soil health is the continued ability of soil to act as an ecosystem for plants, animals, and humans.\n",
            "What is crop insurance? \n",
            "BOT: that’s where crop insurance comes in.\n",
            "pesticides\n",
            "BOT: there are six main types of pesticides: \n",
            "\n",
            "insecticides.\n",
            "What is digital farming?\n",
            "BOT: digital farming gives farmers a better view and understanding of their soil, their crops, and their equipment.\n",
            "What is indoor farming?\n",
            "BOT: the great thing about indoor farming is that seasonal crops can be grown during any time and in any climate.\n",
            "What is a greenhouse?\n",
            "BOT: 34\n",
            "a greenhouse is a building with glass walls and ceiling/roof that are used to grow plants.\n",
            "What is aeroponics?\n",
            "BOT: aeroponics is considered the most technologically advanced hydroponic method.\n",
            "What are crop rotations?\n",
            "BOT: 38\n",
            "crop rotations are when farmers grow different types of crops at different seasons.\n",
            "thank you\n",
            "BOT: You are welcome..\n"
          ],
          "name": "stdout"
        }
      ]
    },
    {
      "cell_type": "code",
      "metadata": {
        "id": "ZsIujajyNPCc"
      },
      "source": [
        ""
      ],
      "execution_count": null,
      "outputs": []
    }
  ]
}